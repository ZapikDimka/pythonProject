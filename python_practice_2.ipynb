{
  "nbformat": 4,
  "nbformat_minor": 0,
  "metadata": {
    "colab": {
      "provenance": []
    },
    "kernelspec": {
      "name": "python3",
      "display_name": "Python 3"
    },
    "language_info": {
      "name": "python"
    }
  },
  "cells": [
    {
      "cell_type": "markdown",
      "source": [
        "# I. Змінні та памʼять."
      ],
      "metadata": {
        "id": "p9wwt0LZzNvn"
      }
    },
    {
      "cell_type": "markdown",
      "source": [
        "1. Створити змінні, що посилаються на два цілих числа, що однакові за значенням, де значення належить проміжку від -5 до 256. Перевірте, чи будуть ці змінні рівні тільки за значенням або ж ще будуть посилатися на один і той самий обʼєкт в памʼяті? Наведіть код та дайте текстову відповідь нижче."
      ],
      "metadata": {
        "id": "HTJrrm95xSV9"
      }
    },
    {
      "cell_type": "code",
      "execution_count": null,
      "metadata": {
        "id": "TATni2vzayjG",
        "colab": {
          "base_uri": "https://localhost:8080/"
        },
        "outputId": "2c4434da-d1d1-4cc8-f0fe-6003beb3e014"
      },
      "outputs": [
        {
          "output_type": "stream",
          "name": "stdout",
          "text": [
            "Values are equal: True\n",
            "References are equal: True\n"
          ]
        }
      ],
      "source": [
        "num1 = 69\n",
        "num2 = 69\n",
        "\n",
        "values_equal = num1 == num2\n",
        "\n",
        "references_equal = num1 is num2\n",
        "\n",
        "print(f'Values are equal: {values_equal}')\n",
        "print(f'References are equal: {references_equal}')"
      ]
    },
    {
      "cell_type": "markdown",
      "source": [
        "У пайтоні цілі числа в проміжку від -5 до 256 є кешованими. Це означає, що числа в цьому діапазоні використовуються повторно, тобто кожен раз, коли ви створюєте змінну з цим значенням, вона буде посилатися на той самий об'єкт в пам'яті."
      ],
      "metadata": {
        "id": "zfRG_o3WbRdg"
      }
    },
    {
      "cell_type": "markdown",
      "source": [
        "2. За допомогою якої функції можна перевірити належність змінної до вказаного типу даних (напр. чи змінна True посилається на значення булевого та цілочисленого типу)?"
      ],
      "metadata": {
        "id": "ISORzt6M3vAt"
      }
    },
    {
      "cell_type": "code",
      "source": [
        "def check_variable_type(variable):\n",
        "    if isinstance(variable, bool):\n",
        "        return 'Variable is a boolean'\n",
        "    elif isinstance(variable, int):\n",
        "        return 'Variable is an integer'\n",
        "    else:\n",
        "        return 'Type of variable not recognized'\n",
        "\n",
        "variable1 = True\n",
        "variable2 = 42\n",
        "variable3 = \"Hello\"\n",
        "\n",
        "result1 = check_variable_type(variable1)\n",
        "result2 = check_variable_type(variable2)\n",
        "result3 = check_variable_type(variable3)\n",
        "\n",
        "print(result1)\n",
        "print(result2)\n",
        "print(result3)"
      ],
      "metadata": {
        "id": "9vL9CFaMbfyo",
        "colab": {
          "base_uri": "https://localhost:8080/"
        },
        "outputId": "9fa2763f-9ce3-4f0f-a83b-bfe31aefc7d6"
      },
      "execution_count": null,
      "outputs": [
        {
          "output_type": "stream",
          "name": "stdout",
          "text": [
            "Variable is a boolean\n",
            "Variable is an integer\n",
            "Type of variable not recognized\n"
          ]
        }
      ]
    },
    {
      "cell_type": "markdown",
      "source": [
        "# II. Цілі числа та числа з рухомою комою"
      ],
      "metadata": {
        "id": "tRxugKAxwYLw"
      }
    },
    {
      "cell_type": "markdown",
      "source": [
        "3. Створити дві змінні, що посилаються на будь-які ціле число та число з рухомою комою та продемонструвати такі арифметичні операції: додавання, віднімання, ділення, множення, ділення без залишку, ділення по модулю, приведення до ступеню. Всі результати операцій вивести на екран."
      ],
      "metadata": {
        "id": "NLHkgd5Gybc8"
      }
    },
    {
      "cell_type": "code",
      "source": [
        "my_integer_var = 10\n",
        "my_float_var = 5.7\n",
        "\n",
        "addition_result = my_integer_var + my_float_var\n",
        "subtraction_result = my_integer_var - my_float_var\n",
        "division_result = my_integer_var / my_float_var\n",
        "multiplication_result = my_integer_var * my_float_var\n",
        "floor_division_result = my_integer_var // my_float_var\n",
        "modulo_result = my_integer_var % my_float_var\n",
        "exponential_result = my_integer_var ** my_float_var\n",
        "\n",
        "print(f\"Addition: {addition_result}\")\n",
        "print(f\"Subtraction: {subtraction_result}\")\n",
        "print(f\"Division: {division_result}\")\n",
        "print(f\"Multiplication: {multiplication_result}\")\n",
        "print(f\"Floor Division: {floor_division_result}\")\n",
        "print(f\"Modulo: {modulo_result}\")\n",
        "print(f\"Exponential: {exponential_result}\")\n"
      ],
      "metadata": {
        "id": "nb8u_3pjb2cA",
        "colab": {
          "base_uri": "https://localhost:8080/"
        },
        "outputId": "bba20883-ff10-456d-e981-052c6af45b79"
      },
      "execution_count": null,
      "outputs": [
        {
          "output_type": "stream",
          "name": "stdout",
          "text": [
            "Addition: 15.7\n",
            "Subtraction: 4.3\n",
            "Division: 1.7543859649122806\n",
            "Multiplication: 57.0\n",
            "Floor Division: 1.0\n",
            "Modulo: 4.3\n",
            "Exponential: 501187.2336272725\n"
          ]
        }
      ]
    },
    {
      "cell_type": "markdown",
      "source": [
        "4. Використовуючи змінні з вправи 3, продемонструйте механізм явного перетворення типів, де числа з рухомою комою перетворюються на цілі числа. Також визначте змінну, що посилається на значення булевого типу і спробуйте явно привести її до цілого числа."
      ],
      "metadata": {
        "id": "1kBClKgPzZnC"
      }
    },
    {
      "cell_type": "code",
      "source": [
        "\n",
        "my_bool_var = True\n",
        "\n",
        "converted_integer_from_float = int(my_float_var)\n",
        "\n",
        "converted_integer_from_bool = int(my_bool_var)\n",
        "\n",
        "print(f\"Converted Integer from Float: {converted_integer_from_float}\")\n",
        "print(f\"Converted Integer from Bool: {converted_integer_from_bool}\")"
      ],
      "metadata": {
        "id": "TbqJbkeUcKsD",
        "colab": {
          "base_uri": "https://localhost:8080/"
        },
        "outputId": "77911043-1f8c-454e-d8ca-d95beb05a771"
      },
      "execution_count": 29,
      "outputs": [
        {
          "output_type": "stream",
          "name": "stdout",
          "text": [
            "Converted Integer from Float: 5\n",
            "Converted Integer from Bool: 1\n"
          ]
        }
      ]
    },
    {
      "cell_type": "markdown",
      "source": [
        "# IІІ. Рядки (String)."
      ],
      "metadata": {
        "id": "EVJ7AflwxrZi"
      }
    },
    {
      "cell_type": "markdown",
      "source": [
        "5. Створити пустий рядок двома різними способами."
      ],
      "metadata": {
        "id": "_s5ECzz9zE61"
      }
    },
    {
      "cell_type": "code",
      "source": [
        "empty_string_1 = ''\n",
        "empty_string_2 = \"\"\n",
        "empty_string_3 = str()\n"
      ],
      "metadata": {
        "id": "fkZJHu9Scvc-"
      },
      "execution_count": null,
      "outputs": []
    },
    {
      "cell_type": "markdown",
      "source": [
        "6. Створити рядок з апострофом. Зробити його сирим. Вивести обидва рядка на екран."
      ],
      "metadata": {
        "id": "4Bdn9J3MzLf_"
      }
    },
    {
      "cell_type": "code",
      "source": [
        "string_with_apostrophe_double = \" ' \"\n",
        "raw_string_double = r\" ' \"\n",
        "print(string_with_apostrophe_double)\n",
        "print(raw_string_double)"
      ],
      "metadata": {
        "id": "ivji_hsmc0GH"
      },
      "execution_count": null,
      "outputs": []
    },
    {
      "cell_type": "markdown",
      "source": [
        "7. Створити змінну, що буде посилатися на Ваше прізвище латинкою. Створити форматований рядок, який буде мати вигляд \"My surname is ______\", де на місці нижніх підкреслень буде Ваше прізвище зі змінної."
      ],
      "metadata": {
        "id": "bg_d8wM4z8dS"
      }
    },
    {
      "cell_type": "code",
      "source": [
        "surname_var = \"Zaporozhets\"\n",
        "\n",
        "formatted_string = f\"My surname is {surname_var}\"\n",
        "\n",
        "print(formatted_string)\n"
      ],
      "metadata": {
        "id": "kuxFgpWndACq",
        "colab": {
          "base_uri": "https://localhost:8080/"
        },
        "outputId": "0d643176-7ee7-44ce-b873-bfcc46e33300"
      },
      "execution_count": 15,
      "outputs": [
        {
          "output_type": "stream",
          "name": "stdout",
          "text": [
            "My surname is Zaporozhets\n"
          ]
        }
      ]
    },
    {
      "cell_type": "markdown",
      "source": [
        "8. Маючи рядок \"My dog is crazy.\" перетворити його на список [\"my\", \"dog\", \"is\", \"crazy\"]"
      ],
      "metadata": {
        "id": "1Nc6RqvQ0hxU"
      }
    },
    {
      "cell_type": "code",
      "source": [
        "input_string = \"My dog is crazy.\"\n",
        "\n",
        "\n",
        "word_list = input_string.lower().split()\n",
        "\n",
        "\n",
        "print(word_list)\n"
      ],
      "metadata": {
        "id": "w1Ya4RqedUhw",
        "colab": {
          "base_uri": "https://localhost:8080/"
        },
        "outputId": "0af6e5b8-9e13-43ca-8ee4-26db4059e6a1"
      },
      "execution_count": 16,
      "outputs": [
        {
          "output_type": "stream",
          "name": "stdout",
          "text": [
            "['my', 'dog', 'is', 'crazy.']\n"
          ]
        }
      ]
    },
    {
      "cell_type": "markdown",
      "source": [
        "# IV. Робота зі списками."
      ],
      "metadata": {
        "id": "GYVqN9uP1D4n"
      }
    },
    {
      "cell_type": "markdown",
      "source": [
        "9. Створити список двома різними за синтаксисом способами. За допомогою вбудованої функції обчисліть довжину одного з них."
      ],
      "metadata": {
        "id": "7-DeDunw2sO-"
      }
    },
    {
      "cell_type": "code",
      "source": [
        "list1 = [1, 2, 3, 4, 5]\n",
        "\n",
        "list2 = list(range(5))\n",
        "\n",
        "length_of_list1 = len(list1)\n",
        "\n",
        "print(\"List 1:\", list1)\n",
        "print(\"List 2:\", list2)\n",
        "print(\"Length of List 1:\", length_of_list1)\n"
      ],
      "metadata": {
        "id": "zxg06Uuxdyoh",
        "colab": {
          "base_uri": "https://localhost:8080/"
        },
        "outputId": "ac0a205f-3565-4885-e3f0-9983b6b91019"
      },
      "execution_count": 17,
      "outputs": [
        {
          "output_type": "stream",
          "name": "stdout",
          "text": [
            "List 1: [1, 2, 3, 4, 5]\n",
            "List 2: [0, 1, 2, 3, 4]\n",
            "Length of List 1: 5\n"
          ]
        }
      ]
    },
    {
      "cell_type": "markdown",
      "source": [
        "10. Створіть два списка та за допомогою спеціального методу додайте другий з них в якості останнього елемента першого."
      ],
      "metadata": {
        "id": "8vmGUTjL22gI"
      }
    },
    {
      "cell_type": "code",
      "source": [
        "list1 = [1, 2, 3]\n",
        "list2 = [4, 5, 6]\n",
        "\n",
        "list1.extend([list2])\n",
        "\n",
        "print(\"Combined List:\", list1)"
      ],
      "metadata": {
        "id": "uHtjWYw7d7hm",
        "colab": {
          "base_uri": "https://localhost:8080/"
        },
        "outputId": "715682c2-c19d-4e2d-b46d-31fb24ba2103"
      },
      "execution_count": 18,
      "outputs": [
        {
          "output_type": "stream",
          "name": "stdout",
          "text": [
            "Combined List: [1, 2, 3, [4, 5, 6]]\n"
          ]
        }
      ]
    },
    {
      "cell_type": "markdown",
      "source": [
        "11. Створіть список, де елементами цього списку також є списки. Отримай перший елемент з останнього рядка та виведи значення на екран."
      ],
      "metadata": {
        "id": "JC3BkD-67_--"
      }
    },
    {
      "cell_type": "code",
      "source": [
        "nested_list = [[1, 2, 3], [4, 5, 6], [7, 8, 9]]\n",
        "\n",
        "first_element_last_row = nested_list[-1][0]\n",
        "\n",
        "print(\"First element of the last row:\", first_element_last_row)"
      ],
      "metadata": {
        "id": "Kz2jZHsGeLlz",
        "colab": {
          "base_uri": "https://localhost:8080/"
        },
        "outputId": "439ba266-e502-4907-e6d9-e3c131882508"
      },
      "execution_count": 19,
      "outputs": [
        {
          "output_type": "stream",
          "name": "stdout",
          "text": [
            "First element of the last row: 7\n"
          ]
        }
      ]
    },
    {
      "cell_type": "markdown",
      "source": [
        "12. Створіть список з десяти елементів різного типу. Отримайте всі елементи, окрім двох перших та двох останніх та збережіть їх в новій змінній."
      ],
      "metadata": {
        "id": "JA47PKTv8zFK"
      }
    },
    {
      "cell_type": "code",
      "source": [
        "original_list = [1, 'two', 3.0, 4, True, 'six', 7, 8.0, False, 'ten']\n",
        "\n",
        "\n",
        "new_list = original_list[2:-2]\n",
        "\n",
        "\n",
        "print(\"Original List:\", original_list)\n",
        "print(\"Modified List:\", new_list)"
      ],
      "metadata": {
        "id": "_rHdUR-ueP4-",
        "colab": {
          "base_uri": "https://localhost:8080/"
        },
        "outputId": "1dea5aba-ae4a-4233-a62e-6b3af0e877e1"
      },
      "execution_count": 20,
      "outputs": [
        {
          "output_type": "stream",
          "name": "stdout",
          "text": [
            "Original List: [1, 'two', 3.0, 4, True, 'six', 7, 8.0, False, 'ten']\n",
            "Modified List: [3.0, 4, True, 'six', 7, 8.0]\n"
          ]
        }
      ]
    },
    {
      "cell_type": "markdown",
      "source": [
        "# V. Робота з кортежами."
      ],
      "metadata": {
        "id": "pCjR1dJb1Qbi"
      }
    },
    {
      "cell_type": "markdown",
      "source": [
        "14. Створити кортеж з один елементом."
      ],
      "metadata": {
        "id": "fAZCxAX06R_k"
      }
    },
    {
      "cell_type": "code",
      "source": [
        "single_element_tuple = (42,)\n",
        "\n",
        "\n",
        "print(\"Single Element Tuple:\", single_element_tuple)"
      ],
      "metadata": {
        "id": "H7d82WkQev3e"
      },
      "execution_count": null,
      "outputs": []
    },
    {
      "cell_type": "markdown",
      "source": [
        "15. Порівняйте список та кортеж. Назвіть схожості та відмінності, випадки використання."
      ],
      "metadata": {
        "id": "8LCtYcmI6w1M"
      }
    },
    {
      "cell_type": "markdown",
      "source": [
        "Списки і кортежі в пайтоні подібні за тим, що обидва є колекціями об'єктів, які можна ітерувати. Однак є важливі відмінності. Списки мутабельні, тобто їх можна змінювати (додавати, видаляти елементи), а кортежі є немутабельними, і їх елементи не можна змінювати після створення. Синтаксис для створення списків використовує квадратні дужки [], у той час як кортежі використовують круглі дужки (). У деяких випадках кортежі можуть бути швидшими за списки через їх немутабельність. Вибір між ними залежить від потреб та вимог конкретного використання."
      ],
      "metadata": {
        "id": "fUsN1Hnue0C6"
      }
    },
    {
      "cell_type": "markdown",
      "source": [
        "16. Створіть кортеж з 11ти елементів чисел з рухомою комою та отримайте кожен парний за індексом елемент в зворотньому порядку. Наприклад, маючи (1.2, 2.3, 3.3, 4.3, 5.3, 6.3, 7.3, 8.3, 9.3, 0.3), отримати (0.3, 8.3, 6.3, 4.3, 2.3). Результат збережіть в нову змінну та виведіть на екран."
      ],
      "metadata": {
        "id": "m0xrwFijAmDD"
      }
    },
    {
      "cell_type": "code",
      "source": [
        "tuple_with_floats = (1.2, 2.3, 3.3, 4.3, 5.3, 6.3, 7.3, 8.3, 9.3, 0.3, 11.3)\n",
        "\n",
        "result_tuple = tuple_with_floats[-2::-2]\n",
        "\n",
        "print(\"Original Tuple:\", tuple_with_floats)\n",
        "print(\"Result Tuple:\", result_tuple)"
      ],
      "metadata": {
        "id": "p-5DAH6XfAGA",
        "colab": {
          "base_uri": "https://localhost:8080/"
        },
        "outputId": "663101dd-baf0-4779-d4c8-aea069aaf9b6"
      },
      "execution_count": 21,
      "outputs": [
        {
          "output_type": "stream",
          "name": "stdout",
          "text": [
            "Original Tuple: (1.2, 2.3, 3.3, 4.3, 5.3, 6.3, 7.3, 8.3, 9.3, 0.3, 11.3)\n",
            "Result Tuple: (0.3, 8.3, 6.3, 4.3, 2.3)\n"
          ]
        }
      ]
    },
    {
      "cell_type": "markdown",
      "source": [
        "# VI. Множини (Set)."
      ],
      "metadata": {
        "id": "rW_I9dt3x6cW"
      }
    },
    {
      "cell_type": "markdown",
      "source": [
        "17. Створити множину без елементів. Після цого за допомогою методу додайте кілька різних елементів до множини. Чи множини є змінним типом даних?"
      ],
      "metadata": {
        "id": "zNjRLHLw1Bgg"
      }
    },
    {
      "cell_type": "code",
      "source": [
        "empty_set = set()\n",
        "\n",
        "empty_set.add(1)\n",
        "empty_set.add(\"Hello\")\n",
        "empty_set.add(3.14)\n",
        "\n",
        "\n",
        "print(\"Modified Set:\", empty_set)\n"
      ],
      "metadata": {
        "id": "KOv7zc2Kfo4N",
        "colab": {
          "base_uri": "https://localhost:8080/"
        },
        "outputId": "8a0ed3e4-fad0-49b5-a838-ed9c55efbe49"
      },
      "execution_count": 22,
      "outputs": [
        {
          "output_type": "stream",
          "name": "stdout",
          "text": [
            "Modified Set: {1, 3.14, 'Hello'}\n"
          ]
        }
      ]
    },
    {
      "cell_type": "markdown",
      "source": [
        "так, множини є змінним типом даних.\n",
        "Вони можуть змінюватися, дозволяючи додавати та видаляти елементи.\n",
        "Наприклад, метод add() використовується для додавання нового елемента до множини,\n",
        "і метод remove() використовується для видалення елемента з множини."
      ],
      "metadata": {
        "id": "vxS6dVYiftZQ"
      }
    },
    {
      "cell_type": "markdown",
      "source": [
        "18. Створити множину, маючи список my_list = [1, 1, 2, 67, 67, 8, 9]. Пояснити, чому \"зникли\" деякі елементи."
      ],
      "metadata": {
        "id": "gHpT0Zw_1HEF"
      }
    },
    {
      "cell_type": "code",
      "source": [
        "\n",
        "my_list = [1, 1, 2, 67, 67, 8, 9]\n",
        "\n",
        "\n",
        "my_set = set(my_list)\n",
        "\n",
        "print(\"Original List:\", my_list)\n",
        "print(\"Set with Unique Elements:\", my_set)"
      ],
      "metadata": {
        "id": "qCN4uvJ_fxmu"
      },
      "execution_count": null,
      "outputs": []
    },
    {
      "cell_type": "markdown",
      "source": [
        "це відбувається, тому що в пайтоні множини не допускають дублкатів"
      ],
      "metadata": {
        "id": "tFNc1e20fyny"
      }
    },
    {
      "cell_type": "markdown",
      "source": [
        "19. Створіть дві множини. Продемонстуйте над ними операції: обʼєднання, різниці, пересічі та симетричної різниці. Використовуйте методи, що не змінюють множини, а створюють нові."
      ],
      "metadata": {
        "id": "SRMkGizS1UwY"
      }
    },
    {
      "cell_type": "code",
      "source": [
        "\n",
        "set1 = {1, 2, 3, 4, 5}\n",
        "set2 = {3, 4, 5, 6, 7}\n",
        "\n",
        "union_set = set1.union(set2)\n",
        "\n",
        "difference_set = set1.difference(set2)\n",
        "\n",
        "intersection_set = set1.intersection(set2)\n",
        "\n",
        "symmetric_difference_set = set1.symmetric_difference(set2)\n",
        "\n",
        "print(\"Set 1:\", set1)\n",
        "print(\"Set 2:\", set2)\n",
        "print(\"Union Set:\", union_set)\n",
        "print(\"Difference Set:\", difference_set)\n",
        "print(\"Intersection Set:\", intersection_set)\n",
        "print(\"Symmetric Difference Set:\", symmetric_difference_set)\n"
      ],
      "metadata": {
        "id": "h0T-VuDnf3Ri"
      },
      "execution_count": null,
      "outputs": []
    },
    {
      "cell_type": "markdown",
      "source": [
        "# VII. Словники (Dictionary)."
      ],
      "metadata": {
        "id": "kWc8gkzTx7Ea"
      }
    },
    {
      "cell_type": "markdown",
      "source": [
        "20. Створіть пустий словник. До нього додайте чотири пари елементів такі, щоб їхні ключі були різних типів. Чи може список бути ключем? Чому?"
      ],
      "metadata": {
        "id": "i5FLwj-B2ybQ"
      }
    },
    {
      "cell_type": "code",
      "source": [
        "\n",
        "my_dict = {}\n",
        "\n",
        "\n",
        "my_dict[1] = \"Integer Key\"\n",
        "my_dict[\"two\"] = \"String Key\"\n",
        "my_dict[3.14] = \"Float Key\"\n",
        "my_dict[(1, 2, 3)] = \"Tuple Key\"\n",
        "\n",
        "\n",
        "print(\"Updated Dictionary:\", my_dict)"
      ],
      "metadata": {
        "id": "hxgv3BzrgLAV",
        "colab": {
          "base_uri": "https://localhost:8080/"
        },
        "outputId": "13b6deca-a7f6-432e-846e-7949df691fdd"
      },
      "execution_count": 26,
      "outputs": [
        {
          "output_type": "stream",
          "name": "stdout",
          "text": [
            "Updated Dictionary: {1: 'Integer Key', 'two': 'String Key', 3.14: 'Float Key', (1, 2, 3): 'Tuple Key'}\n"
          ]
        }
      ]
    },
    {
      "cell_type": "markdown",
      "source": [
        " Список не може бути ключем у словнику. Ключі у словнику повинні бути незмінними типами даних, такими як числа, рядки чи кортежі. Списки є змінними і не можуть бути використані як ключі у словнику."
      ],
      "metadata": {
        "id": "zwa7UVN-gR3m"
      }
    },
    {
      "cell_type": "markdown",
      "source": [
        "21. Створіть словник, де значенням в одній з пар теж буде словник, який теж має вкладений словник. Виведіть на екран значення, що міститься в словнику, що знаходиться на найнижчому рівні ієрархії вкладеності (найбільш внутрішній)."
      ],
      "metadata": {
        "id": "WM_pMlJsgoNf"
      }
    },
    {
      "cell_type": "code",
      "source": [
        "main_dict = {\n",
        "    'first_key': 'first_value',\n",
        "    'second_key': {\n",
        "        'nested_key_1': 'nested_value_1',\n",
        "        'nested_key_2': {\n",
        "            'inner_key': 'inner_value111'\n",
        "        }\n",
        "    },\n",
        "    'third_key': 'third_value'\n",
        "}\n",
        "\n",
        "innermost_value = main_dict['second_key']['nested_key_2']['inner_key']\n",
        "\n",
        "print(\"Value at the innermost level:\", innermost_value)\n"
      ],
      "metadata": {
        "id": "60dlP7IHhAy4",
        "colab": {
          "base_uri": "https://localhost:8080/"
        },
        "outputId": "e1595f56-aaca-47a6-d2dd-cb9f7646bd03"
      },
      "execution_count": 27,
      "outputs": [
        {
          "output_type": "stream",
          "name": "stdout",
          "text": [
            "Value at the innermost level: inner_value111\n"
          ]
        }
      ]
    },
    {
      "cell_type": "markdown",
      "source": [
        "# Вітаю! Ви велика(ий) молодець, що впоралась(вся). Похваліть себе та побалуйте чимось приємним. Я Вами пишаюся."
      ],
      "metadata": {
        "id": "xOZP0hkx6cCr"
      }
    }
  ]
}