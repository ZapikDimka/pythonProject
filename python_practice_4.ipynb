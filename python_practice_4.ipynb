{
  "nbformat": 4,
  "nbformat_minor": 0,
  "metadata": {
    "colab": {
      "provenance": []
    },
    "kernelspec": {
      "name": "python3",
      "display_name": "Python 3"
    },
    "language_info": {
      "name": "python"
    }
  },
  "cells": [
    {
      "cell_type": "markdown",
      "source": [
        "# I. Functions. Arguments."
      ],
      "metadata": {
        "id": "kXpppdVm6wFy"
      }
    },
    {
      "cell_type": "markdown",
      "source": [
        "1. (5б) Назвіть основні 4 смислові  частини, з яких складається функція."
      ],
      "metadata": {
        "id": "u_krJdlbAkVz"
      }
    },
    {
      "cell_type": "markdown",
      "source": [
        "Назва, аргументи, тіло функції,значення, що повертається"
      ],
      "metadata": {
        "id": "KKTrTXmHAptb"
      }
    },
    {
      "cell_type": "markdown",
      "source": [
        "2. (3б) Визначте функцію, що приймає 2 аргументи та повертає результат ділення 1го аргумента на інший."
      ],
      "metadata": {
        "id": "ORM4PqJQAtDM"
      }
    },
    {
      "cell_type": "code",
      "execution_count": 1,
      "metadata": {
        "id": "EuDx-z8M6sLo",
        "colab": {
          "base_uri": "https://localhost:8080/"
        },
        "outputId": "844ec5fd-01a7-408c-c11b-6cd3308ea67d"
      },
      "outputs": [
        {
          "output_type": "stream",
          "name": "stdout",
          "text": [
            "Результат ділення 10 на 2 дорівнює 5.0\n"
          ]
        }
      ],
      "source": [
        "def division_function(a, b):\n",
        "    if b != 0:\n",
        "        result = a / b\n",
        "        return result\n",
        "    else:\n",
        "        print(\"Помилка: Ділення на нуль неможливе.\")\n",
        "        return None\n",
        "\n",
        "a = 10\n",
        "b = 2\n",
        "result = division_function(a, b)\n",
        "\n",
        "if result is not None:\n",
        "    print(f\"Результат ділення {a} на {b} дорівнює {result}\")\n"
      ]
    },
    {
      "cell_type": "markdown",
      "source": [
        "3. (2б) Викличте вище визначену функцію, де другий аргумент дорівнює 0."
      ],
      "metadata": {
        "id": "5joQGQ-SAyMe"
      }
    },
    {
      "cell_type": "code",
      "source": [
        "def division_function(a, b):\n",
        "    result = a / b\n",
        "    return result\n",
        "\n",
        "a = 10\n",
        "b = 0\n",
        "result = division_function(a, b)\n",
        "print(f\"Результат ділення {a} на {b} дорівнює {result}\")\n"
      ],
      "metadata": {
        "id": "V5cBV1LOA3d-",
        "colab": {
          "base_uri": "https://localhost:8080/",
          "height": 315
        },
        "outputId": "02afceee-0874-4e5f-c524-131d1f645d4e"
      },
      "execution_count": 3,
      "outputs": [
        {
          "output_type": "error",
          "ename": "ZeroDivisionError",
          "evalue": "division by zero",
          "traceback": [
            "\u001b[0;31m---------------------------------------------------------------------------\u001b[0m",
            "\u001b[0;31mZeroDivisionError\u001b[0m                         Traceback (most recent call last)",
            "\u001b[0;32m<ipython-input-3-211d93c76e0e>\u001b[0m in \u001b[0;36m<cell line: 7>\u001b[0;34m()\u001b[0m\n\u001b[1;32m      5\u001b[0m \u001b[0ma\u001b[0m \u001b[0;34m=\u001b[0m \u001b[0;36m10\u001b[0m\u001b[0;34m\u001b[0m\u001b[0;34m\u001b[0m\u001b[0m\n\u001b[1;32m      6\u001b[0m \u001b[0mb\u001b[0m \u001b[0;34m=\u001b[0m \u001b[0;36m0\u001b[0m\u001b[0;34m\u001b[0m\u001b[0;34m\u001b[0m\u001b[0m\n\u001b[0;32m----> 7\u001b[0;31m \u001b[0mresult\u001b[0m \u001b[0;34m=\u001b[0m \u001b[0mdivision_function\u001b[0m\u001b[0;34m(\u001b[0m\u001b[0ma\u001b[0m\u001b[0;34m,\u001b[0m \u001b[0mb\u001b[0m\u001b[0;34m)\u001b[0m\u001b[0;34m\u001b[0m\u001b[0;34m\u001b[0m\u001b[0m\n\u001b[0m\u001b[1;32m      8\u001b[0m \u001b[0mprint\u001b[0m\u001b[0;34m(\u001b[0m\u001b[0;34mf\"Результат ділення {a} на {b} дорівнює {result}\"\u001b[0m\u001b[0;34m)\u001b[0m\u001b[0;34m\u001b[0m\u001b[0;34m\u001b[0m\u001b[0m\n",
            "\u001b[0;32m<ipython-input-3-211d93c76e0e>\u001b[0m in \u001b[0;36mdivision_function\u001b[0;34m(a, b)\u001b[0m\n\u001b[1;32m      1\u001b[0m \u001b[0;32mdef\u001b[0m \u001b[0mdivision_function\u001b[0m\u001b[0;34m(\u001b[0m\u001b[0ma\u001b[0m\u001b[0;34m,\u001b[0m \u001b[0mb\u001b[0m\u001b[0;34m)\u001b[0m\u001b[0;34m:\u001b[0m\u001b[0;34m\u001b[0m\u001b[0;34m\u001b[0m\u001b[0m\n\u001b[0;32m----> 2\u001b[0;31m     \u001b[0mresult\u001b[0m \u001b[0;34m=\u001b[0m \u001b[0ma\u001b[0m \u001b[0;34m/\u001b[0m \u001b[0mb\u001b[0m\u001b[0;34m\u001b[0m\u001b[0;34m\u001b[0m\u001b[0m\n\u001b[0m\u001b[1;32m      3\u001b[0m     \u001b[0;32mreturn\u001b[0m \u001b[0mresult\u001b[0m\u001b[0;34m\u001b[0m\u001b[0;34m\u001b[0m\u001b[0m\n\u001b[1;32m      4\u001b[0m \u001b[0;34m\u001b[0m\u001b[0m\n\u001b[1;32m      5\u001b[0m \u001b[0ma\u001b[0m \u001b[0;34m=\u001b[0m \u001b[0;36m10\u001b[0m\u001b[0;34m\u001b[0m\u001b[0;34m\u001b[0m\u001b[0m\n",
            "\u001b[0;31mZeroDivisionError\u001b[0m: division by zero"
          ]
        }
      ]
    },
    {
      "cell_type": "markdown",
      "source": [
        "4. (4б) Перевизначте функцію так, щоби у випадку ділення на 0 функція повертала None, а в решті випадків - результат розрахунків."
      ],
      "metadata": {
        "id": "QyimWgW8A43-"
      }
    },
    {
      "cell_type": "code",
      "source": [
        "def division_function(a, b):\n",
        "    try:\n",
        "        result = a / b\n",
        "        return result\n",
        "    except ZeroDivisionError:\n",
        "        return None\n",
        "\n",
        "# Приклад виклику функції\n",
        "a = 10\n",
        "b = 0\n",
        "result = division_function(a, b)\n",
        "\n",
        "print(f\"Результат ділення {a} на {b} дорівнює {result}\")\n"
      ],
      "metadata": {
        "id": "7VIODtSjA8Ek",
        "colab": {
          "base_uri": "https://localhost:8080/"
        },
        "outputId": "b1e36f0f-3aa3-4e07-f090-f03f3a511d50"
      },
      "execution_count": 11,
      "outputs": [
        {
          "output_type": "stream",
          "name": "stdout",
          "text": [
            "Результат ділення 10 на 0 дорівнює None\n"
          ]
        }
      ]
    },
    {
      "cell_type": "markdown",
      "source": [
        "5. (5б) Визначте функцію, що віднімає одне число від іншого (підказка: це буде 2 аргументи функції). При чому, якщо не визначити, скільки саме має бути віднято від числа, за замовчуванням має відніматися 1. Викличте функцію, передаючи тільки один аргумент."
      ],
      "metadata": {
        "id": "Y8mN0GfkA81l"
      }
    },
    {
      "cell_type": "code",
      "source": [
        "def subtract_numbers(a, b=1):\n",
        "    result = a - b\n",
        "    return result\n",
        "\n",
        "# Виклик функції з одним аргументом\n",
        "number = 10\n",
        "result = subtract_numbers(number)\n",
        "\n",
        "print(f\"Результат віднімання {b} з {a} дорівнює {result}\")\n"
      ],
      "metadata": {
        "id": "vg1kxkdgBA50",
        "colab": {
          "base_uri": "https://localhost:8080/"
        },
        "outputId": "6883fc3e-bf11-4289-b553-f299c4f35dbb"
      },
      "execution_count": 12,
      "outputs": [
        {
          "output_type": "stream",
          "name": "stdout",
          "text": [
            "Результат віднімання 0 з 10 дорівнює 9\n"
          ]
        }
      ]
    },
    {
      "cell_type": "markdown",
      "source": [
        "6. (7б) Визначте функцію, яка приймає iterable (ітерабельний обʼєкт, напр. список), що складається з 7ми рядкових значень - назв погодних умов (напр. \"sunny\") за кожен день у тижні. Повертає функція словник, де ключами є рядки з погодними умовами, а значеннями - кількість разів, скільки дана погода була протягом тижня (напр. {'sunny': 1, ...}). Викличте цю функцію та виведіть результат її роботи на екран."
      ],
      "metadata": {
        "id": "D3mwQGNOBBs4"
      }
    },
    {
      "cell_type": "code",
      "source": [
        "def count_weather_occurrences(weather_list):\n",
        "    weather_dict = {}\n",
        "    for weather_condition in weather_list:\n",
        "        if weather_condition in weather_dict:\n",
        "            weather_dict[weather_condition] += 1\n",
        "        else:\n",
        "            weather_dict[weather_condition] = 1\n",
        "    return weather_dict\n",
        "\n",
        "# Приклад виклику функції\n",
        "weekly_weather = ['sunny', 'rainy', 'cloudy', 'sunny', 'snowy', 'rainy', 'cloudy']\n",
        "result_dict = count_weather_occurrences(weekly_weather)\n",
        "\n",
        "print(result_dict)\n"
      ],
      "metadata": {
        "id": "OsWm-hKcBFyn",
        "colab": {
          "base_uri": "https://localhost:8080/"
        },
        "outputId": "3fec8c92-5c29-4336-dc34-39ff2486f954"
      },
      "execution_count": 7,
      "outputs": [
        {
          "output_type": "stream",
          "name": "stdout",
          "text": [
            "{'sunny': 2, 'rainy': 2, 'cloudy': 2, 'snowy': 1}\n"
          ]
        }
      ]
    },
    {
      "cell_type": "markdown",
      "source": [
        "7. (15б) Напишіть програму, яка б шукала необхідне число у впорядкованому списку цілочислених значень, де\n",
        "число має вводитись з консолі.\n",
        "власне алгоритм пошуку винесений в окрему функцію, яка повертає булеве значення (знайдено число - True, не знайдено - False).\n",
        "в залежності від результату функції, виведіть на екран повідомлення про успішний або ж неуспішний пошук.\n",
        "Зауваження: використовувати оператор in заборонено."
      ],
      "metadata": {
        "id": "RMiCcdOsBKQT"
      }
    },
    {
      "cell_type": "code",
      "source": [
        "def binary_search(arr, target):\n",
        "    left, right = 0, len(arr) - 1\n",
        "\n",
        "    while left <= right:\n",
        "        mid = (left + right) // 2\n",
        "        mid_value = arr[mid]\n",
        "\n",
        "        if mid_value == target:\n",
        "            return True\n",
        "        elif mid_value < target:\n",
        "            left = mid + 1\n",
        "        else:\n",
        "            right = mid - 1\n",
        "\n",
        "    return False\n",
        "\n",
        "# Введення числа для пошуку з консолі\n",
        "try:\n",
        "    target_number = int(input(\"Введіть число для пошуку: \"))\n",
        "except ValueError:\n",
        "    print(\"Помилка: Введене значення не є цілим числом.\")\n",
        "    exit()\n",
        "\n",
        "# Впорядкований список цілих чисел (приклад)\n",
        "sorted_list = [1, 2, 3, 4, 5, 6, 7, 8, 9, 10]\n",
        "\n",
        "# Виклик функції пошуку та виведення результату\n",
        "if binary_search(sorted_list, target_number):\n",
        "    print(f\"Число {target_number} знайдено у списку.\")\n",
        "else:\n",
        "    print(f\"Число {target_number} не знайдено у списку.\")\n"
      ],
      "metadata": {
        "id": "UNCZg65OBOy-",
        "colab": {
          "base_uri": "https://localhost:8080/"
        },
        "outputId": "d80324e8-a6aa-45bf-d5af-1a74659773d5"
      },
      "execution_count": 8,
      "outputs": [
        {
          "output_type": "stream",
          "name": "stdout",
          "text": [
            "Введіть число для пошуку: 5\n",
            "Число 5 знайдено у списку.\n"
          ]
        }
      ]
    },
    {
      "cell_type": "markdown",
      "source": [
        "# II. Lambda functions."
      ],
      "metadata": {
        "id": "Ae1n_OvLBTsy"
      }
    },
    {
      "cell_type": "markdown",
      "source": [
        "8. (4б) В яких випадках варто використовувати лямбда-функції?"
      ],
      "metadata": {
        "id": "xaD_wSlaCWen"
      }
    },
    {
      "cell_type": "markdown",
      "source": [
        "\n",
        "1. **Короткі функції:** Якщо функція коротка і вона використовується тільки в одному місці, то використання лямбда-функції може бути зручнішим, оскільки вона не потребує визначення окремої функції.\n",
        "\n",
        "2. **Анонімні функції:** Лямбда-функції є анонімними, тобто не мають імені, і вони часто використовуються там, де потрібна коротка функція, але визначення окремої функції може бути зайвим.\n",
        "\n",
        "3. **Параметри функції в одному виразі:** Лямбда-функції дозволяють вам описати функцію в одному виразі, що може бути зручним, наприклад, при використанні функцій вищих порядків, таких як `map`, `filter`, або `sorted`.\n",
        "\n",
        "4. **Прості операції:** Якщо функція виконує прості операції, лямбда-функція може бути більш читабельною та економічною альтернативою в порівнянні з визначенням повноцінної функції.\\\n"
      ],
      "metadata": {
        "id": "42MB6OoLCakR"
      }
    },
    {
      "cell_type": "markdown",
      "source": [
        "9. (9б) Визначте список з рядками. Після цього визначте анонімну функцію для отримання першого символу у верхньому регістрі для кожного рядка списку.\n",
        "Підказка: використовуйте анонімну функцію в якості агрумента до вбудованої ф-ції, яка створена для застосування функцій над iterable обʼєктами. Результат виведіть на екран у вигляді кортежу."
      ],
      "metadata": {
        "id": "USrzrk7GCedk"
      }
    },
    {
      "cell_type": "code",
      "source": [
        "# Визначення списку рядків\n",
        "string_list = ['apple', 'banana', 'cherry', 'date']\n",
        "\n",
        "# Визначення анонімної функції для отримання першого символу у верхньому регістрі\n",
        "capitalize_first_char = lambda s: s[0].upper() if s else ''\n",
        "\n",
        "# Використання вбудованої функції map для застосування анонімної функції до кожного елемента списку\n",
        "result_tuple = tuple(map(capitalize_first_char, string_list))\n",
        "\n",
        "# Виведення результату на екран у вигляді кортежу\n",
        "print(result_tuple)\n"
      ],
      "metadata": {
        "id": "M8QWUsMlCjWH",
        "colab": {
          "base_uri": "https://localhost:8080/"
        },
        "outputId": "67d8cdad-c646-49aa-c0ab-a3eea06188dd"
      },
      "execution_count": 10,
      "outputs": [
        {
          "output_type": "stream",
          "name": "stdout",
          "text": [
            "('A', 'B', 'C', 'D')\n"
          ]
        }
      ]
    },
    {
      "cell_type": "markdown",
      "source": [
        "10. (10б) Визначте список з числовими значеннями (і цілими, і з рухомою комою). а) Відфільтруйте всі числа, які діляться націло на 3 за допомогою вбудованої функції та анонімної функції в якості аргумента). Збережіть результат у змінній, не приводяти явно до будь-якого типу. б) Використовуючи результат на кроці 12.а у якості аргументу, та за допомогою лямбда-функції в якості іншого аргументу до вбудованої функції, додайте до кожного елементу число 1 та опісля зведіть у квадрат. Остаточний результат приведіть явно до списку та виведіть на екран."
      ],
      "metadata": {
        "id": "9fyUhXOoCtGp"
      }
    },
    {
      "cell_type": "code",
      "source": [
        "# Визначення списку з числовими значеннями\n",
        "numeric_list = [2, 5, 8, 10, 12.5, 15.6, 18, 21.3]\n",
        "\n",
        "# а) Відфільтруйте всі числа, які діляться націло на 3\n",
        "filtered_numbers = filter(lambda x: x % 3 == 0, numeric_list)\n",
        "\n",
        "# б) Додайте до кожного елементу число 1 та опісля зведіть у квадрат\n",
        "result_list = list(map(lambda x: (x + 1) ** 2, filtered_numbers))\n",
        "\n",
        "# Виведення результату на екран\n",
        "print(result_list)\n"
      ],
      "metadata": {
        "id": "exEx2_okCsql",
        "colab": {
          "base_uri": "https://localhost:8080/"
        },
        "outputId": "ac355c6e-90a3-44bd-d53f-40692c796819"
      },
      "execution_count": 20,
      "outputs": [
        {
          "output_type": "stream",
          "name": "stdout",
          "text": [
            "[361]\n"
          ]
        }
      ]
    },
    {
      "cell_type": "markdown",
      "source": [
        "# III. Decorators."
      ],
      "metadata": {
        "id": "o_x8cG_WC7jp"
      }
    },
    {
      "cell_type": "markdown",
      "source": [
        "11. (11б) Визначте декоратор, який би виводив у консоль повідомлення про початок роботи і назву функції (напр. my_function._ _ name _ _), а після відпрацювання функції - повідомлення про закінчення роботи і назву функції, що задекорована."
      ],
      "metadata": {
        "id": "mhxS4-mfC8LQ"
      }
    },
    {
      "cell_type": "code",
      "source": [
        "def my_decorator(func):\n",
        "    def wrapper(*args, **kwargs):\n",
        "        print(f\"Початок роботи функції {func.__name__}\")\n",
        "        result = func(*args, **kwargs)\n",
        "        print(f\"Закінчення роботи функції {func.__name__}\")\n",
        "        return result\n",
        "    return wrapper\n",
        "\n",
        "# Використання декоратора\n",
        "@my_decorator\n",
        "def example_function():\n",
        "    print(\"Це прикладна функція.\")\n",
        "\n",
        "# Виклик функції, що задекорована\n",
        "example_function()\n"
      ],
      "metadata": {
        "id": "srd1ygWjDGhO"
      },
      "execution_count": null,
      "outputs": []
    },
    {
      "cell_type": "markdown",
      "source": [
        "12. (4б) Задекоруйте двома різними способами функції з завдання 4 та 5 декоратором із завдання 11. (**УВАГА**: не декоруйте функції двічі!)."
      ],
      "metadata": {
        "id": "rxGZwVBiDph3"
      }
    },
    {
      "cell_type": "code",
      "source": [
        "# Функція з завдання 4\n",
        "def division_function(a, b):\n",
        "    try:\n",
        "        result = a / b\n",
        "        return result\n",
        "    except ZeroDivisionError:\n",
        "        return None\n",
        "\n",
        "# Функція з завдання 5\n",
        "def subtract_numbers(a, b=1):\n",
        "    result = a - b\n",
        "    return result\n",
        "\n",
        "# Функція з завдання 11\n",
        "def my_decorator(func):\n",
        "    def wrapper(*args, **kwargs):\n",
        "        print(f\"Початок роботи функції {func.__name__}\")\n",
        "        result = func(*args, **kwargs)\n",
        "        print(f\"Закінчення роботи функції {func.__name__}\")\n",
        "        return result\n",
        "    return wrapper\n",
        "\n",
        "# Використання декоратора для функції з завдання 4\n",
        "@my_decorator\n",
        "def decorated_division_function(a, b):\n",
        "    try:\n",
        "        result = a / b\n",
        "        return result\n",
        "    except ZeroDivisionError:\n",
        "        return None\n",
        "\n",
        "# Використання декоратора для функції з завдання 5\n",
        "@my_decorator\n",
        "def decorated_subtract_numbers(a, b=1):\n",
        "    result = a - b\n",
        "    return result\n",
        "\n",
        "# Виклики декорованих функцій\n",
        "a = 10\n",
        "b = 0\n",
        "result_division = decorated_division_function(a, b)\n",
        "print(f\"Результат декорованої функції ділення: {result_division}\")\n",
        "\n",
        "number = 10\n",
        "result_subtraction = decorated_subtract_numbers(number)\n",
        "print(f\"Результат декорованої функції віднімання: {result_subtraction}\")\n"
      ],
      "metadata": {
        "id": "06lj7eq_DwZe",
        "colab": {
          "base_uri": "https://localhost:8080/"
        },
        "outputId": "546c7002-1607-4434-9a0d-24eeae8d8838"
      },
      "execution_count": 13,
      "outputs": [
        {
          "output_type": "stream",
          "name": "stdout",
          "text": [
            "Початок роботи функції decorated_division_function\n",
            "Закінчення роботи функції decorated_division_function\n",
            "Результат декорованої функції ділення: None\n",
            "Початок роботи функції decorated_subtract_numbers\n",
            "Закінчення роботи функції decorated_subtract_numbers\n",
            "Результат декорованої функції віднімання: 9\n"
          ]
        }
      ]
    },
    {
      "cell_type": "markdown",
      "source": [
        "13. (2б) Викличте одну з задекорованих функцій і виведіть її результат на екран."
      ],
      "metadata": {
        "id": "P0ep1urBDzf-"
      }
    },
    {
      "cell_type": "code",
      "source": [
        "# Виклик задекорованої функції ділення\n",
        "result_division_call = decorated_division_function(15, 3)\n",
        "print(f\"Результат декорованої функції ділення (виклик з іншими аргументами): {result_division_call}\")\n"
      ],
      "metadata": {
        "id": "1QvTw0ctD0S3",
        "colab": {
          "base_uri": "https://localhost:8080/"
        },
        "outputId": "c61f9717-9e7b-4c57-ba38-f2a5459e4b10"
      },
      "execution_count": 21,
      "outputs": [
        {
          "output_type": "stream",
          "name": "stdout",
          "text": [
            "Початок роботи функції decorated_division_function\n",
            "Закінчення роботи функції decorated_division_function\n",
            "Результат декорованої функції ділення (виклик з іншими аргументами): 5.0\n"
          ]
        }
      ]
    },
    {
      "cell_type": "markdown",
      "source": [
        "# IV. Recursion."
      ],
      "metadata": {
        "id": "poECCpuoD2S9"
      }
    },
    {
      "cell_type": "markdown",
      "source": [
        "14. (4б) Назвіть дві частини функції, які є обовʼязковими для того, щоб називати її рекурсивною."
      ],
      "metadata": {
        "id": "DqkURfdsD7MY"
      }
    },
    {
      "cell_type": "markdown",
      "source": [
        "Рекурсивний виклик самої себе, умова зупинки\n",
        "\n"
      ],
      "metadata": {
        "id": "HYW6ttIeIQIU"
      }
    },
    {
      "cell_type": "markdown",
      "source": [
        "15. (15б) Визначте функцію, яка рекурсивно реалізовує пошук числа у послідовності Фібоначчі за її індексом (нумерація починається з нуля). Наприклад, потрібно знайти перше число у послідовності, тоді функція прийматиме 0 у якості аргумента і повертатиме 1, якщо ж знаходити третє число (індекс 2) послідовності, то функція повертатиме 2, якщо ж знаходити десяте число (індекс 9), то функція повертатиме 55."
      ],
      "metadata": {
        "id": "WYVt20UmEA35"
      }
    },
    {
      "cell_type": "code",
      "source": [
        "def fibonacci_recursive(index):\n",
        "    if index == 0:\n",
        "        return 1\n",
        "    elif index == 1:\n",
        "        return 1\n",
        "    else:\n",
        "        return fibonacci_recursive(index - 1) + fibonacci_recursive(index - 2)\n",
        "\n",
        "# Приклад виводу всіх чисел та їх індексів до певного індексу\n",
        "index_to_find = 9\n",
        "\n",
        "fibonacci_sequence = []\n",
        "for i in range(index_to_find + 1):\n",
        "    value = fibonacci_recursive(i)\n",
        "    fibonacci_sequence.append((i, value))\n",
        "\n",
        "print(f\"Послідовність Фібоначчі до індексу {index_to_find}: {fibonacci_sequence}\")\n"
      ],
      "metadata": {
        "id": "xIMhp05AIpV_",
        "colab": {
          "base_uri": "https://localhost:8080/"
        },
        "outputId": "b0f21910-c3bc-46e2-8320-ee8755eed77c"
      },
      "execution_count": 19,
      "outputs": [
        {
          "output_type": "stream",
          "name": "stdout",
          "text": [
            "Послідовність Фібоначчі до індексу 9: [(0, 1), (1, 1), (2, 2), (3, 3), (4, 5), (5, 8), (6, 13), (7, 21), (8, 34), (9, 55)]\n"
          ]
        }
      ]
    },
    {
      "cell_type": "markdown",
      "source": [
        "# Вітаю! Ви велика(ий) молодець, що впоралась(вся). Похваліть себе та побалуйте чимось приємним. Я Вами пишаюся."
      ],
      "metadata": {
        "id": "ytXC8n_4Ip0W"
      }
    }
  ]
}