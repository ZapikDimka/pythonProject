{
  "nbformat": 4,
  "nbformat_minor": 0,
  "metadata": {
    "colab": {
      "provenance": []
    },
    "kernelspec": {
      "name": "python3",
      "display_name": "Python 3"
    },
    "language_info": {
      "name": "python"
    }
  },
  "cells": [
    {
      "cell_type": "markdown",
      "source": [
        "# I. OOP"
      ],
      "metadata": {
        "id": "5qV_sehzFCTp"
      }
    },
    {
      "cell_type": "markdown",
      "source": [
        "1. (6б). Створіть клас Animal, додайте три атрибути, один з яких має значення за замовчуванням та два методи на свій розсуд."
      ],
      "metadata": {
        "id": "tx_U_hOALyfg"
      }
    },
    {
      "cell_type": "code",
      "source": [
        "class Animal:\n",
        "    def __init__(self, species=None, sound=\"Unknown\", legs=4):\n",
        "        self.species = species\n",
        "        self.sound = sound\n",
        "        self.legs = legs\n",
        "\n",
        "    def make_sound(self):\n",
        "        return f\"The {self.species} makes a sound: {self.sound}\"\n",
        "\n",
        "    def display_legs(self):\n",
        "        return f\"The {self.species} has {self.legs} legs\"\n",
        "\n",
        "\n",
        "# Creating an instance of the Animal class with default values\n",
        "default_animal = Animal()\n",
        "\n",
        "# Creating another instance with specific attribute values\n",
        "custom_animal = Animal(species=\"CustomAnimal\", sound=\"Meow\", legs=3)\n",
        "\n",
        "# Calling methods and printing results\n",
        "print(default_animal.make_sound())  # Output: The None makes a sound: Unknown\n",
        "print(custom_animal.display_legs())  # Output: The CustomAnimal has 3 legs\n"
      ],
      "metadata": {
        "id": "-Vf895KaL88N",
        "colab": {
          "base_uri": "https://localhost:8080/"
        },
        "outputId": "71f66f2a-5e62-4bd9-ecc8-74bc74d001b8"
      },
      "execution_count": 33,
      "outputs": [
        {
          "output_type": "stream",
          "name": "stdout",
          "text": [
            "The None makes a sound: Unknown\n",
            "The CustomAnimal has 3 legs\n"
          ]
        }
      ]
    },
    {
      "cell_type": "markdown",
      "source": [
        "2. (2б). Створіть два обʼєкти цього класу, де один з обʼєктів створюється із дефолтним значенням атрибуту. На одному обʼєкті отримайте значення його атрибуту, а на іншому викличте один з його методів."
      ],
      "metadata": {
        "id": "X_UlOMB0L93w"
      }
    },
    {
      "cell_type": "code",
      "source": [
        "# Creating an instance with default attribute values\n",
        "default_animal = Animal(species=\"DefaultAnimal\")\n",
        "\n",
        "# Creating another instance with specific attribute values\n",
        "custom_animal = Animal(species=\"CustomAnimal\", sound=\"Meow\", legs=3)\n",
        "\n",
        "# Getting the value of an attribute on one object\n",
        "print(f\"The default animal species is: {default_animal.species}\")\n",
        "\n",
        "# Calling a method on another object\n",
        "print(custom_animal.make_sound())\n"
      ],
      "metadata": {
        "id": "7gBu0ESOMCpG",
        "colab": {
          "base_uri": "https://localhost:8080/"
        },
        "outputId": "45ef9e0b-606d-421a-fc88-22116fdf4587"
      },
      "execution_count": 34,
      "outputs": [
        {
          "output_type": "stream",
          "name": "stdout",
          "text": [
            "The default animal species is: DefaultAnimal\n",
            "The CustomAnimal makes a sound: Meow\n"
          ]
        }
      ]
    },
    {
      "cell_type": "markdown",
      "source": [
        "3. (5б). Створіть клас, де атрибути мають різні рівні доступу. Спробуйте отримати їхні значення та опишіть результати."
      ],
      "metadata": {
        "id": "HoqSCZt1MHn5"
      }
    },
    {
      "cell_type": "code",
      "source": [
        "class MyClass:\n",
        "    def __init__(self):\n",
        "        # Public attribute\n",
        "        self.public_attribute = \"I am public!\"\n",
        "\n",
        "        # Protected attribute (starts with a single underscore)\n",
        "        self._protected_attribute = \"I am protected!\"\n",
        "\n",
        "        # Private attribute (starts with double underscore)\n",
        "        self.__private_attribute = \"I am private!\"\n",
        "\n",
        "# Creating an instance of the class\n",
        "my_instance = MyClass()\n",
        "\n",
        "# Accessing attribute values\n",
        "try:\n",
        "    print(\"Public attribute:\", my_instance.public_attribute)\n",
        "\n",
        "    # Attempting to access protected and private attributes\n",
        "    print(\"Protected attribute:\", my_instance._protected_attribute)\n",
        "\n",
        "    print(\"Private attribute:\", my_instance.__private_attribute)\n",
        "except AttributeError as e:\n",
        "    print(f\"Error: {e}\")\n"
      ],
      "metadata": {
        "id": "r9b3vJxBMSPV",
        "colab": {
          "base_uri": "https://localhost:8080/"
        },
        "outputId": "63ebbfd1-d15f-4866-83fb-afb3849e924a"
      },
      "execution_count": 5,
      "outputs": [
        {
          "output_type": "stream",
          "name": "stdout",
          "text": [
            "Public attribute: I am public!\n",
            "Protected attribute: I am protected!\n",
            "Error: 'MyClass' object has no attribute '__private_attribute'\n"
          ]
        }
      ]
    },
    {
      "cell_type": "markdown",
      "source": [
        "4. (7б). Як ви розумієте термін self? Для чого використовується метод __init __?"
      ],
      "metadata": {
        "id": "5op2m2vgMSkZ"
      }
    },
    {
      "cell_type": "markdown",
      "source": [
        "У Пайтоні термін __self__ є конвенційним і використовується для представлення екземпляра класу. Це є перший параметр будь-якого методу, визначеного в класі, і вказує на екземпляр цього класу. За допомогою __self__ можна отримувати доступ до атрибутів та методів екземпляра в межах самого класу.\n",
        "\n",
        "Метод __init__ є спеціальним методом у класах Пайтоні, який автоматично викликається при створенні об'єкта з класу. Його часто використовують для ініціалізації атрибутів об'єкта. Параметр __self__ у методі __init__ вказує на екземпляр, який створюється, і дозволяє встановлювати початкові значення атрибутів."
      ],
      "metadata": {
        "id": "DyiPqNRvMasx"
      }
    },
    {
      "cell_type": "markdown",
      "source": [
        "5. (9б). Створіть клас Фігура без атрибутів, з методом get_area для отримання площі фігури, що повертає 0 та __add __, який приймає self та other в якості аргументів, а повертає суму площин фігур self та other."
      ],
      "metadata": {
        "id": "-6X8EGfjMd2y"
      }
    },
    {
      "cell_type": "code",
      "source": [
        "class Figure:\n",
        "    def get_area(self):\n",
        "        # Method to get the area, returns 0 as the default value\n",
        "        return 0\n",
        "\n",
        "    def __add__(self, other):\n",
        "        # Method for addition, returns the sum of the areas of self and other figures\n",
        "        return self.get_area() + other.get_area()\n",
        "\n",
        "# Example usage of the class\n",
        "figure1 = Figure()\n",
        "figure2 = Figure()\n",
        "\n",
        "# Displaying results\n",
        "print(\"Area of figure 1:\", figure1.get_area())\n",
        "print(\"Area of figure 2:\", figure2.get_area())\n",
        "\n",
        "# Using the __add__ method to get the sum of the areas of figures\n",
        "total_area = figure1 + figure2\n",
        "print(\"Total area:\", total_area)\n"
      ],
      "metadata": {
        "id": "4rvO_wYUMaEr",
        "colab": {
          "base_uri": "https://localhost:8080/"
        },
        "outputId": "bb2921f1-11b6-4617-883e-602e0b1c2e5c"
      },
      "execution_count": 6,
      "outputs": [
        {
          "output_type": "stream",
          "name": "stdout",
          "text": [
            "Area of figure 1: 0\n",
            "Area of figure 2: 0\n",
            "Total area: 0\n"
          ]
        }
      ]
    },
    {
      "cell_type": "markdown",
      "source": [
        "6. (11б). Створіть 2 дочірніх класи від Фігури: Трикутник та Коло, які мають атрибути, необхідні для розрахунку площин. Визначте метод get_area в кожному з них так, щоби вони розраховували площу в залежності від формули для кожного типу фігури. Створіть обʼєкт класу Трикутник та обʼєкт класу Коло. Виконайте операцію суми за допомогою оператора + між ними."
      ],
      "metadata": {
        "id": "SFcKnnv5Mo_z"
      }
    },
    {
      "cell_type": "code",
      "source": [
        "import math\n",
        "\n",
        "class Figure:\n",
        "    def get_area(self):\n",
        "        # Method to get the area, returns 0 as the default value\n",
        "        return 0\n",
        "\n",
        "    def __add__(self, other):\n",
        "        # Method for addition, returns the sum of the areas of self and other figures\n",
        "        return self.get_area() + other.get_area()\n",
        "\n",
        "class Triangle(Figure):\n",
        "    def __init__(self, base, height):\n",
        "        self.base = base\n",
        "        self.height = height\n",
        "\n",
        "    def get_area(self):\n",
        "        # Method to get the area for a triangle\n",
        "        return 0.5 * self.base * self.height\n",
        "\n",
        "class Circle(Figure):\n",
        "    def __init__(self, radius):\n",
        "        self.radius = radius\n",
        "\n",
        "    def get_area(self):\n",
        "        # Method to get the area for a circle\n",
        "        return math.pi * self.radius**2\n",
        "\n",
        "# Creating objects of the classes\n",
        "triangle = Triangle(base=5, height=8)\n",
        "circle = Circle(radius=4)\n",
        "\n",
        "# Displaying results\n",
        "print(\"Area of triangle:\", triangle.get_area())\n",
        "print(\"Area of circle:\", circle.get_area())\n",
        "\n",
        "# Using the __add__ method to get the sum of the areas of figures\n",
        "total_area = triangle + circle\n",
        "print(\"Total area:\", total_area)\n"
      ],
      "metadata": {
        "id": "H3GVNr69Muf3",
        "colab": {
          "base_uri": "https://localhost:8080/"
        },
        "outputId": "db8f0ce6-90ad-492b-8087-562723c1f2f8"
      },
      "execution_count": 35,
      "outputs": [
        {
          "output_type": "stream",
          "name": "stdout",
          "text": [
            "Area of triangle: 20.0\n",
            "Area of circle: 50.26548245743669\n",
            "Total area: 70.26548245743669\n"
          ]
        }
      ]
    },
    {
      "cell_type": "markdown",
      "source": [
        "7. (3б). Продемонструйте різницю між isinstance та issubclass."
      ],
      "metadata": {
        "id": "HCvR206YMvLK"
      }
    },
    {
      "cell_type": "code",
      "source": [
        "class Animal:\n",
        "    pass\n",
        "\n",
        "class Mammal(Animal):\n",
        "    pass\n",
        "\n",
        "obj = Mammal()\n",
        "\n",
        "# Check if obj is an instance of the Mammal class\n",
        "print(isinstance(obj, Mammal))  # Outputs True\n",
        "\n",
        "# Check if Mammal is a subclass of Animal\n",
        "print(issubclass(Mammal, Animal))  # Outputs True\n"
      ],
      "metadata": {
        "id": "L_V1bBvDM0GN",
        "colab": {
          "base_uri": "https://localhost:8080/"
        },
        "outputId": "605abd68-87ed-40e4-900a-8c1cd3a30844"
      },
      "execution_count": 11,
      "outputs": [
        {
          "output_type": "stream",
          "name": "stdout",
          "text": [
            "True\n",
            "True\n"
          ]
        }
      ]
    },
    {
      "cell_type": "markdown",
      "source": [
        "8. (13б). Створіть клас BankAccount з приватними атрибутами balance та account_number. Реалізуйте методи поповнення та зняття коштів, забезпечивши належну інкапсуляцію. Підказка: використовуйте декоратори property та setter."
      ],
      "metadata": {
        "id": "jjsaBZ-iM0Qq"
      }
    },
    {
      "cell_type": "code",
      "source": [
        "class BankAccount:\n",
        "    def __init__(self, initial_balance=0, account_number=\"\"):\n",
        "        # Private attributes with initial values\n",
        "        self._balance = initial_balance\n",
        "        self._account_number = account_number\n",
        "\n",
        "    # Getter method for the balance attribute\n",
        "    @property\n",
        "    def balance(self):\n",
        "        return self._balance\n",
        "\n",
        "    # Setter method for the balance attribute\n",
        "    @balance.setter\n",
        "    def balance(self, new_balance):\n",
        "        if new_balance >= 0:\n",
        "            self._balance = new_balance\n",
        "        else:\n",
        "            print(\"Balance cannot be negative.\")\n",
        "\n",
        "    # Getter method for the account number attribute\n",
        "    @property\n",
        "    def account_number(self):\n",
        "        return self._account_number\n",
        "\n",
        "    # Method to deposit funds into the account\n",
        "    def deposit(self, amount):\n",
        "        if amount > 0:\n",
        "            self._balance += amount\n",
        "            print(f\"Deposited ${amount}. New balance: ${self._balance}\")\n",
        "        else:\n",
        "            print(\"Deposit amount should be greater than zero.\")\n",
        "\n",
        "    # Method to withdraw funds from the account\n",
        "    def withdraw(self, amount):\n",
        "        if amount > 0 and amount <= self._balance:\n",
        "            self._balance -= amount\n",
        "            print(f\"Withdrew ${amount}. New balance: ${self._balance}\")\n",
        "        else:\n",
        "            print(\"Invalid withdrawal amount or insufficient funds.\")\n",
        "\n",
        "# Example usage of the BankAccount class\n",
        "if __name__ == \"__main__\":\n",
        "    # Create an instance of BankAccount\n",
        "    my_account = BankAccount(initial_balance=1000, account_number=\"1\")\n",
        "\n",
        "    # Accessing balance using the property\n",
        "    print(\"Current balance:\", my_account.balance)\n",
        "\n",
        "    # Accessing account number using the property\n",
        "    print(\"Account number:\", my_account.account_number)\n",
        "\n",
        "    # Depositing funds\n",
        "    my_account.deposit(34500)\n",
        "\n",
        "    # Attempting to withdraw more than the current balance\n",
        "    my_account.withdraw(55155050)\n",
        "\n",
        "    # Withdrawing valid amount\n",
        "    my_account.withdraw(200000)\n"
      ],
      "metadata": {
        "id": "xCvZ7lh8M7YA",
        "colab": {
          "base_uri": "https://localhost:8080/"
        },
        "outputId": "6e86849e-0837-4cda-830e-b4978a9f3cfd"
      },
      "execution_count": 43,
      "outputs": [
        {
          "output_type": "stream",
          "name": "stdout",
          "text": [
            "Current balance: 1000\n",
            "Account number: 1\n",
            "Deposited $34500. New balance: $35500\n",
            "Invalid withdrawal amount or insufficient funds.\n",
            "Invalid withdrawal amount or insufficient funds.\n"
          ]
        }
      ]
    },
    {
      "cell_type": "markdown",
      "source": [
        "9. (11б). Створіть клас Library, який містить список об'єктів типу Book. Реалізуйте методи для додавання книги, видалення книги та відображення списку книг."
      ],
      "metadata": {
        "id": "tIzL2SJTM8ft"
      }
    },
    {
      "cell_type": "code",
      "source": [
        "class Book:\n",
        "    def __init__(self, title, author):\n",
        "        self.title = title\n",
        "        self.author = author\n",
        "\n",
        "class Library:\n",
        "    def __init__(self):\n",
        "        # Initialize an empty list to store books\n",
        "        self.books = []\n",
        "\n",
        "    # Method to add a new book to the library\n",
        "    def add_book(self, book):\n",
        "        self.books.append(book)\n",
        "        print(f\"Book '{book.title}' by {book.author} added to the library.\")\n",
        "\n",
        "    # Method to remove a book from the library\n",
        "    def remove_book(self, title, author):\n",
        "        for book in self.books:\n",
        "            if book.title == title and book.author == author:\n",
        "                self.books.remove(book)\n",
        "                print(f\"Book '{title}' by {author} removed from the library.\")\n",
        "                return\n",
        "        print(f\"Book '{title}' by {author} not found in the library.\")\n",
        "\n",
        "    # Method to display the list of books in the library\n",
        "    def display_books(self):\n",
        "        if not self.books:\n",
        "            print(\"The library is empty.\")\n",
        "        else:\n",
        "            print(\"Books in the library:\")\n",
        "            for book in self.books:\n",
        "                print(f\"Title: {book.title}, Author: {book.author}\")\n",
        "\n",
        "# Example usage of the Library class\n",
        "if __name__ == \"__main__\":\n",
        "    # Create an instance of the Library\n",
        "    my_library = Library()\n",
        "\n",
        "    # Create Book objects\n",
        "    book1 = Book(\"The Great Gatsby\", \"F. Scott Fitzgerald\")\n",
        "    book2 = Book(\"To Kill a Mockingbird\", \"Harper Lee\")\n",
        "    book3 = Book(\"1984\", \"George Orwell\")\n",
        "\n",
        "    # Add books to the library\n",
        "    my_library.add_book(book1)\n",
        "    my_library.add_book(book2)\n",
        "    my_library.add_book(book3)\n",
        "\n",
        "    # Display the list of books in the library\n",
        "    my_library.display_books()\n",
        "\n",
        "    # Remove a book from the library\n",
        "    my_library.remove_book(\"To Kill a Mockingbird\", \"Harper Lee\")\n",
        "\n",
        "    # Display the updated list of books\n",
        "    my_library.display_books()\n"
      ],
      "metadata": {
        "id": "HWxfJKLtNAUZ",
        "colab": {
          "base_uri": "https://localhost:8080/"
        },
        "outputId": "6136ab8f-6a68-4f4d-d820-886122d6e1a4"
      },
      "execution_count": 42,
      "outputs": [
        {
          "output_type": "stream",
          "name": "stdout",
          "text": [
            "Book 'The Great Gatsby' by F. Scott Fitzgerald added to the library.\n",
            "Book 'To Kill a Mockingbird' by Harper Lee added to the library.\n",
            "Book '1984' by George Orwell added to the library.\n",
            "Books in the library:\n",
            "Title: The Great Gatsby, Author: F. Scott Fitzgerald\n",
            "Title: To Kill a Mockingbird, Author: Harper Lee\n",
            "Title: 1984, Author: George Orwell\n",
            "Book 'To Kill a Mockingbird' by Harper Lee removed from the library.\n",
            "Books in the library:\n",
            "Title: The Great Gatsby, Author: F. Scott Fitzgerald\n",
            "Title: 1984, Author: George Orwell\n"
          ]
        }
      ]
    },
    {
      "cell_type": "markdown",
      "source": [
        "10. (13б). Створіть клас Person з атрибутами name та age. Створіть ще один клас Employee з такими атрибутами, як department та salary. Створіть клас Manager, який успадковує обидва класи Person та Employee. Продемонструйте використання множинної спадковості, створивши обʼєкт класу Manager та отримавши mro для цього класу."
      ],
      "metadata": {
        "id": "lmV8pAwwNIqu"
      }
    },
    {
      "cell_type": "code",
      "source": [
        "class Person:\n",
        "    def __init__(self, name, age):\n",
        "        self.name = name\n",
        "        self.age = age\n",
        "\n",
        "class Employee:\n",
        "    def __init__(self, department, salary):\n",
        "        self.department = department\n",
        "        self.salary = salary\n",
        "\n",
        "class Manager(Person, Employee):\n",
        "    def __init__(self, name, age, department, salary):\n",
        "        # Call the constructors of both parent classes\n",
        "        Person.__init__(self, name, age)\n",
        "        Employee.__init__(self, department, salary)\n",
        "\n",
        "# Create an instance of the Manager class\n",
        "manager = Manager(name=\"John Doe\", age=35, department=\"IT\", salary=75000)\n",
        "\n",
        "# Displaying the attributes of the Manager object\n",
        "print(f\"Manager Name: {manager.name}\")\n",
        "print(f\"Manager Age: {manager.age}\")\n",
        "print(f\"Manager Department: {manager.department}\")\n",
        "print(f\"Manager Salary: ${manager.salary}\")\n",
        "\n",
        "# Displaying the Method Resolution Order (MRO) for the Manager class\n",
        "print(f\"MRO for Manager class: {Manager.mro()}\")\n"
      ],
      "metadata": {
        "id": "R49grKlWNPeN",
        "colab": {
          "base_uri": "https://localhost:8080/"
        },
        "outputId": "66d74ba8-a3bc-471a-b629-b791097d4f70"
      },
      "execution_count": 41,
      "outputs": [
        {
          "output_type": "stream",
          "name": "stdout",
          "text": [
            "Manager Name: John Doe\n",
            "Manager Age: 35\n",
            "Manager Department: IT\n",
            "Manager Salary: $75000\n",
            "MRO for Manager class: [<class '__main__.Manager'>, <class '__main__.Person'>, <class '__main__.Employee'>, <class 'object'>]\n"
          ]
        }
      ]
    },
    {
      "cell_type": "markdown",
      "source": [
        "# II. Iterator"
      ],
      "metadata": {
        "id": "dIJyUiNBFG8G"
      }
    },
    {
      "cell_type": "markdown",
      "source": [
        "11. (4б). Визначте рядок(str) з 4ма різними за значенням символами. Створіть ітератор на основі цього рядка. Викличте 5 разів функцію next на ітераторі, 4ри перших з них огорніть у ф-цію print()."
      ],
      "metadata": {
        "id": "13vsm0NyKIzL"
      }
    },
    {
      "cell_type": "code",
      "source": [
        "# Define a string with four different characters\n",
        "my_string = \"abcd\"\n",
        "\n",
        "# Create an iterator from the string\n",
        "my_iterator = iter(my_string)\n",
        "\n",
        "# Call the next function 5 times, printing the first 4 results\n",
        "for _ in range(5):\n",
        "    try:\n",
        "        print(next(my_iterator))\n",
        "    except StopIteration:\n",
        "        print(\"End of iterator reached.\")\n"
      ],
      "metadata": {
        "id": "81ntabAkKuz-",
        "colab": {
          "base_uri": "https://localhost:8080/"
        },
        "outputId": "14bac147-76ac-4b69-eb24-b4cdb2641abb"
      },
      "execution_count": 40,
      "outputs": [
        {
          "output_type": "stream",
          "name": "stdout",
          "text": [
            "a\n",
            "b\n",
            "c\n",
            "d\n",
            "End of iterator reached.\n"
          ]
        }
      ]
    },
    {
      "cell_type": "markdown",
      "source": [
        "А що якщо викликати цю ж функцію на рядку?\n"
      ],
      "metadata": {
        "id": "aekWHGXOLRsO"
      }
    },
    {
      "cell_type": "code",
      "source": [
        "# Define a string with four different characters\n",
        "my_string = \"abcd\"\n",
        "\n",
        "# Call the next function 5 times on the string directly\n",
        "for _ in range(5):\n",
        "    try:\n",
        "        print(next(my_string))\n",
        "    except TypeError:\n",
        "        print(\"TypeError: 'str' object is not an iterator.\")\n"
      ],
      "metadata": {
        "id": "mxATGsErLV1i",
        "colab": {
          "base_uri": "https://localhost:8080/"
        },
        "outputId": "d061a14e-3f0d-442e-f413-d2d0ae11335f"
      },
      "execution_count": 39,
      "outputs": [
        {
          "output_type": "stream",
          "name": "stdout",
          "text": [
            "TypeError: 'str' object is not an iterator.\n",
            "TypeError: 'str' object is not an iterator.\n",
            "TypeError: 'str' object is not an iterator.\n",
            "TypeError: 'str' object is not an iterator.\n",
            "TypeError: 'str' object is not an iterator.\n"
          ]
        }
      ]
    },
    {
      "cell_type": "markdown",
      "source": [
        " 12. (5б). Опишіть своїми словами в одному реченні, як ви розумієте різницю між ітерабельними обʼєктами та ітераторами (можна на прикладі)."
      ],
      "metadata": {
        "id": "XwtMEopwJ4pH"
      }
    },
    {
      "cell_type": "markdown",
      "source": [
        "Ітерабельні об'єкти - це контейнери, які можна перебирати, використовуючи цикл for, в той час як ітератори - це об'єкти, які зберігають свій стан і відповідають за послідовне надання елементів, що дозволяє ефективно обробляти великі дані або потоки без зберігання всього набору у пам'яті.*місце для відповіді"
      ],
      "metadata": {
        "id": "-sHrODc3KFn8"
      }
    },
    {
      "cell_type": "markdown",
      "source": [
        "13. (11б). Створіть клас, що має визначений Iterator Protocol та при кожному виклику next повертає літери англійської абетки, поки вони не вичерпаються."
      ],
      "metadata": {
        "id": "E9qJWmNbK8Gl"
      }
    },
    {
      "cell_type": "code",
      "source": [
        "class AlphabetIterator:\n",
        "    def __init__(self):\n",
        "        self.alphabet = \"abcdefghijklmnopqrstuvwxyz\"\n",
        "        self.index = 0\n",
        "\n",
        "    def __iter__(self):\n",
        "\n",
        "        return self\n",
        "\n",
        "    def __next__(self):\n",
        "\n",
        "        if self.index < len(self.alphabet):\n",
        "            current_letter = self.alphabet[self.index]\n",
        "            self.index += 1\n",
        "            return current_letter\n",
        "        else:\n",
        "            raise StopIteration\n",
        "\n",
        "alphabet_iterator = AlphabetIterator()\n",
        "\n",
        "for _ in range(26):\n",
        "    print(next(alphabet_iterator))\n"
      ],
      "metadata": {
        "id": "cqx-g_RsLo6I",
        "colab": {
          "base_uri": "https://localhost:8080/"
        },
        "outputId": "b3be2f5a-959c-40a1-ed5a-4712db5187ed"
      },
      "execution_count": 37,
      "outputs": [
        {
          "output_type": "stream",
          "name": "stdout",
          "text": [
            "a\n",
            "b\n",
            "c\n",
            "d\n",
            "e\n",
            "f\n",
            "g\n",
            "h\n",
            "i\n",
            "j\n",
            "k\n",
            "l\n",
            "m\n",
            "n\n",
            "o\n",
            "p\n",
            "q\n",
            "r\n",
            "s\n",
            "t\n",
            "u\n",
            "v\n",
            "w\n",
            "x\n",
            "y\n",
            "z\n"
          ]
        }
      ]
    },
    {
      "cell_type": "markdown",
      "source": [
        "# Вітаю! Ви велика(ий) молодець, що впоралась(вся). Похваліть себе та побалуйте чимось приємним. Я Вами пишаюся."
      ],
      "metadata": {
        "id": "Z3E3S_s1Fv7-"
      }
    }
  ]
}